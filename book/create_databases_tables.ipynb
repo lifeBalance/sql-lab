{
 "cells": [
  {
   "cell_type": "markdown",
   "id": "41e53e44-c4dc-462a-8fbb-1728a46e44ae",
   "metadata": {},
   "source": [
    "# Create Databases and Tables\n",
    "In this section we'll go over creating databases and tables. We'll also cover the types of data that we can store in these tables:\n",
    "\n",
    "- [Boolean]()\n",
    "\n",
    "So far, we've been using `INNER JOIN`, which it's the most common used one, but there are more. We'll be using the old [Jeff Atwood's post](https://blog.codinghorror.com/a-visual-explanation-of-sql-joins/) about SQL joins (a classic), as a base for our explanation.\n",
    "\n",
    "## Create a Test database\n",
    "Let's create a database named `test` so we can add a couple of tables to explain a few more SQL joins. Open the terminal and run:\n",
    "```\n",
    "createdb -h localhost -p 5432 -U bob test_joins\n",
    "```\n",
    "\n",
    "Now let's create a connection to this new database:"
   ]
  },
  {
   "cell_type": "markdown",
   "id": "438cfd5e-6693-4561-afa8-b0332fc127dd",
   "metadata": {},
   "source": [
    "## Create Tables\n",
    "Now let's add a couple of tables to `test_joins`. The first:\n"
   ]
  }
 ],
 "metadata": {
  "kernelspec": {
   "display_name": "Python 3 (ipykernel)",
   "language": "python",
   "name": "python3"
  },
  "language_info": {
   "codemirror_mode": {
    "name": "ipython",
    "version": 3
   },
   "file_extension": ".py",
   "mimetype": "text/x-python",
   "name": "python",
   "nbconvert_exporter": "python",
   "pygments_lexer": "ipython3",
   "version": "3.10.9"
  }
 },
 "nbformat": 4,
 "nbformat_minor": 5
}
